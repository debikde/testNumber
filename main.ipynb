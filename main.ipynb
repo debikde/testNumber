{
 "cells": [
  {
   "metadata": {
    "ExecuteTime": {
     "end_time": "2025-06-15T13:36:25.646681Z",
     "start_time": "2025-06-15T13:36:22.979640Z"
    }
   },
   "cell_type": "code",
   "source": [
    "import pandas as pd\n",
    "import numpy as np\n",
    "import os\n",
    "import matplotlib.pyplot as plt\n",
    "import seaborn as sns\n",
    "from sklearn.model_selection import train_test_split\n",
    "from sklearn.metrics import classification_report, confusion_matrix\n",
    "from sklearn.ensemble import RandomForestClassifier\n",
    "from sklearn.preprocessing import StandardScaler\n",
    "from sklearn.utils.class_weight import compute_class_weight\n"
   ],
   "id": "29e1e9d8595ebf12",
   "outputs": [],
   "execution_count": 2
  },
  {
   "cell_type": "code",
   "id": "initial_id",
   "metadata": {
    "collapsed": true,
    "ExecuteTime": {
     "end_time": "2025-06-15T13:56:37.481194Z",
     "start_time": "2025-06-15T13:56:35.150177Z"
    }
   },
   "source": [
    "data_dir = \"route1\"\n",
    "all_files = [os.path.join(data_dir, f) for f in os.listdir(data_dir) if f.endswith('_w.csv')]\n",
    "\n",
    "dfs = []\n",
    "for file in all_files:\n",
    "    df = pd.read_csv(file, sep=';', encoding='cp1251', low_memory=False)\n",
    "    dfs.append(df)\n",
    "\n",
    "data = pd.concat(dfs, ignore_index=True)\n"
   ],
   "outputs": [],
   "execution_count": 23
  },
  {
   "metadata": {
    "ExecuteTime": {
     "end_time": "2025-06-15T13:37:47.181383Z",
     "start_time": "2025-06-15T13:37:47.162512Z"
    }
   },
   "cell_type": "code",
   "source": "data.head()\n",
   "id": "a57ba52ab1c0495",
   "outputs": [
    {
     "data": {
      "text/plain": [
       "   len  Скорость     Широта    Долгота  Высота  X Rotation  Y Rotation  \\\n",
       "0  0.0       6.0  60.646775  59.713850   338.0   82.961849   -0.870214   \n",
       "1  1.0       6.0  60.646772  59.713873   339.7   79.659641   -4.668622   \n",
       "2  3.0       6.0  60.646773  59.713905   339.2   80.631440   -6.564573   \n",
       "3  4.0       7.0  60.646772  59.713928   339.4   84.225181   -1.929685   \n",
       "4  6.0       7.0  60.646774  59.713966   337.7   80.798340   -1.001621   \n",
       "\n",
       "   Вес мгновенный  Уровень топлива, литры  Уровень топлива, проценты  ...  \\\n",
       "0           104.0                     NaN                       56.0  ...   \n",
       "1           105.0                     NaN                       55.6  ...   \n",
       "2           102.0                     NaN                       55.6  ...   \n",
       "3           103.0                     NaN                       55.6  ...   \n",
       "4           104.0                     NaN                       55.6  ...   \n",
       "\n",
       "   спуск  incline  рекомендованная скорость_min  рекомендованная скорость_max  \\\n",
       "0      0     flat                           0.0                           6.0   \n",
       "1      0     flat                           0.0                           0.0   \n",
       "2      0     flat                           0.0                           7.0   \n",
       "3      0     flat                           0.0                           0.0   \n",
       "4      0     flat                           0.0                           0.0   \n",
       "\n",
       "   new_slope incline_  indicator_slope  mean_slope  shtraf  isin_border  \n",
       "0        1.6     flat                0        0.01     0.0          0.0  \n",
       "1        1.6     flat                0        0.01     0.0          0.0  \n",
       "2        1.6     flat                0        0.01     0.0          0.0  \n",
       "3        1.6     flat                0        0.01     0.0          0.0  \n",
       "4        1.6     flat                0        0.01     0.0          0.0  \n",
       "\n",
       "[5 rows x 71 columns]"
      ],
      "text/html": [
       "<div>\n",
       "<style scoped>\n",
       "    .dataframe tbody tr th:only-of-type {\n",
       "        vertical-align: middle;\n",
       "    }\n",
       "\n",
       "    .dataframe tbody tr th {\n",
       "        vertical-align: top;\n",
       "    }\n",
       "\n",
       "    .dataframe thead th {\n",
       "        text-align: right;\n",
       "    }\n",
       "</style>\n",
       "<table border=\"1\" class=\"dataframe\">\n",
       "  <thead>\n",
       "    <tr style=\"text-align: right;\">\n",
       "      <th></th>\n",
       "      <th>len</th>\n",
       "      <th>Скорость</th>\n",
       "      <th>Широта</th>\n",
       "      <th>Долгота</th>\n",
       "      <th>Высота</th>\n",
       "      <th>X Rotation</th>\n",
       "      <th>Y Rotation</th>\n",
       "      <th>Вес мгновенный</th>\n",
       "      <th>Уровень топлива, литры</th>\n",
       "      <th>Уровень топлива, проценты</th>\n",
       "      <th>...</th>\n",
       "      <th>спуск</th>\n",
       "      <th>incline</th>\n",
       "      <th>рекомендованная скорость_min</th>\n",
       "      <th>рекомендованная скорость_max</th>\n",
       "      <th>new_slope</th>\n",
       "      <th>incline_</th>\n",
       "      <th>indicator_slope</th>\n",
       "      <th>mean_slope</th>\n",
       "      <th>shtraf</th>\n",
       "      <th>isin_border</th>\n",
       "    </tr>\n",
       "  </thead>\n",
       "  <tbody>\n",
       "    <tr>\n",
       "      <th>0</th>\n",
       "      <td>0.0</td>\n",
       "      <td>6.0</td>\n",
       "      <td>60.646775</td>\n",
       "      <td>59.713850</td>\n",
       "      <td>338.0</td>\n",
       "      <td>82.961849</td>\n",
       "      <td>-0.870214</td>\n",
       "      <td>104.0</td>\n",
       "      <td>NaN</td>\n",
       "      <td>56.0</td>\n",
       "      <td>...</td>\n",
       "      <td>0</td>\n",
       "      <td>flat</td>\n",
       "      <td>0.0</td>\n",
       "      <td>6.0</td>\n",
       "      <td>1.6</td>\n",
       "      <td>flat</td>\n",
       "      <td>0</td>\n",
       "      <td>0.01</td>\n",
       "      <td>0.0</td>\n",
       "      <td>0.0</td>\n",
       "    </tr>\n",
       "    <tr>\n",
       "      <th>1</th>\n",
       "      <td>1.0</td>\n",
       "      <td>6.0</td>\n",
       "      <td>60.646772</td>\n",
       "      <td>59.713873</td>\n",
       "      <td>339.7</td>\n",
       "      <td>79.659641</td>\n",
       "      <td>-4.668622</td>\n",
       "      <td>105.0</td>\n",
       "      <td>NaN</td>\n",
       "      <td>55.6</td>\n",
       "      <td>...</td>\n",
       "      <td>0</td>\n",
       "      <td>flat</td>\n",
       "      <td>0.0</td>\n",
       "      <td>0.0</td>\n",
       "      <td>1.6</td>\n",
       "      <td>flat</td>\n",
       "      <td>0</td>\n",
       "      <td>0.01</td>\n",
       "      <td>0.0</td>\n",
       "      <td>0.0</td>\n",
       "    </tr>\n",
       "    <tr>\n",
       "      <th>2</th>\n",
       "      <td>3.0</td>\n",
       "      <td>6.0</td>\n",
       "      <td>60.646773</td>\n",
       "      <td>59.713905</td>\n",
       "      <td>339.2</td>\n",
       "      <td>80.631440</td>\n",
       "      <td>-6.564573</td>\n",
       "      <td>102.0</td>\n",
       "      <td>NaN</td>\n",
       "      <td>55.6</td>\n",
       "      <td>...</td>\n",
       "      <td>0</td>\n",
       "      <td>flat</td>\n",
       "      <td>0.0</td>\n",
       "      <td>7.0</td>\n",
       "      <td>1.6</td>\n",
       "      <td>flat</td>\n",
       "      <td>0</td>\n",
       "      <td>0.01</td>\n",
       "      <td>0.0</td>\n",
       "      <td>0.0</td>\n",
       "    </tr>\n",
       "    <tr>\n",
       "      <th>3</th>\n",
       "      <td>4.0</td>\n",
       "      <td>7.0</td>\n",
       "      <td>60.646772</td>\n",
       "      <td>59.713928</td>\n",
       "      <td>339.4</td>\n",
       "      <td>84.225181</td>\n",
       "      <td>-1.929685</td>\n",
       "      <td>103.0</td>\n",
       "      <td>NaN</td>\n",
       "      <td>55.6</td>\n",
       "      <td>...</td>\n",
       "      <td>0</td>\n",
       "      <td>flat</td>\n",
       "      <td>0.0</td>\n",
       "      <td>0.0</td>\n",
       "      <td>1.6</td>\n",
       "      <td>flat</td>\n",
       "      <td>0</td>\n",
       "      <td>0.01</td>\n",
       "      <td>0.0</td>\n",
       "      <td>0.0</td>\n",
       "    </tr>\n",
       "    <tr>\n",
       "      <th>4</th>\n",
       "      <td>6.0</td>\n",
       "      <td>7.0</td>\n",
       "      <td>60.646774</td>\n",
       "      <td>59.713966</td>\n",
       "      <td>337.7</td>\n",
       "      <td>80.798340</td>\n",
       "      <td>-1.001621</td>\n",
       "      <td>104.0</td>\n",
       "      <td>NaN</td>\n",
       "      <td>55.6</td>\n",
       "      <td>...</td>\n",
       "      <td>0</td>\n",
       "      <td>flat</td>\n",
       "      <td>0.0</td>\n",
       "      <td>0.0</td>\n",
       "      <td>1.6</td>\n",
       "      <td>flat</td>\n",
       "      <td>0</td>\n",
       "      <td>0.01</td>\n",
       "      <td>0.0</td>\n",
       "      <td>0.0</td>\n",
       "    </tr>\n",
       "  </tbody>\n",
       "</table>\n",
       "<p>5 rows × 71 columns</p>\n",
       "</div>"
      ]
     },
     "execution_count": 7,
     "metadata": {},
     "output_type": "execute_result"
    }
   ],
   "execution_count": 7
  },
  {
   "metadata": {
    "ExecuteTime": {
     "end_time": "2025-06-15T13:37:51.310727Z",
     "start_time": "2025-06-15T13:37:51.302360Z"
    }
   },
   "cell_type": "code",
   "source": "data['point']",
   "id": "a977b0632ff877fe",
   "outputs": [
    {
     "data": {
      "text/plain": [
       "0                -\n",
       "1        point_60%\n",
       "2        point_60%\n",
       "3        point_60%\n",
       "4        point_60%\n",
       "           ...    \n",
       "70018    point_60%\n",
       "70019    point_60%\n",
       "70020    point_60%\n",
       "70021    point_60%\n",
       "70022    point_60%\n",
       "Name: point, Length: 70023, dtype: object"
      ]
     },
     "execution_count": 8,
     "metadata": {},
     "output_type": "execute_result"
    }
   ],
   "execution_count": 8
  },
  {
   "metadata": {
    "ExecuteTime": {
     "end_time": "2025-06-15T13:36:49.238287Z",
     "start_time": "2025-06-15T13:36:48.990697Z"
    }
   },
   "cell_type": "code",
   "source": [
    "data.info()            \n",
    "data.describe()        \n",
    "data.columns.tolist()   \n"
   ],
   "id": "4016fff042979b95",
   "outputs": [
    {
     "name": "stdout",
     "output_type": "stream",
     "text": [
      "<class 'pandas.core.frame.DataFrame'>\n",
      "RangeIndex: 70023 entries, 0 to 70022\n",
      "Data columns (total 71 columns):\n",
      " #   Column                                                                    Non-Null Count  Dtype  \n",
      "---  ------                                                                    --------------  -----  \n",
      " 0   len                                                                       70023 non-null  float64\n",
      " 1   Скорость                                                                  70023 non-null  float64\n",
      " 2   Широта                                                                    70023 non-null  float64\n",
      " 3   Долгота                                                                   70023 non-null  float64\n",
      " 4   Высота                                                                    70023 non-null  float64\n",
      " 5   X Rotation                                                                70023 non-null  float64\n",
      " 6   Y Rotation                                                                70023 non-null  float64\n",
      " 7   Вес мгновенный                                                            70023 non-null  float64\n",
      " 8   Уровень топлива, литры                                                    2907 non-null   float64\n",
      " 9   Уровень топлива, проценты                                                 55704 non-null  float64\n",
      " 10  путь                                                                      70023 non-null  float64\n",
      " 11  ДВС.Расход топлива                                                        6528 non-null   float64\n",
      " 12  Ускорение по оси X                                                        70023 non-null  float64\n",
      " 13  Ускорение по оси Y                                                        70023 non-null  float64\n",
      " 14  Ускорение по оси Z                                                        70023 non-null  float64\n",
      " 15  Статус самосвала                                                          70023 non-null  object \n",
      " 16  Самосвал                                                                  70023 non-null  int64  \n",
      " 17  Модель самосвала                                                          70023 non-null  int64  \n",
      " 18  Грузоподъемность                                                          70023 non-null  int64  \n",
      " 19  Обороты двигателя                                                         0 non-null      float64\n",
      " 20  Расчетный выходной крутящий момент двигателя (в процентах от эталонного)  6528 non-null   float64\n",
      " 21  Текущая нагрузка двигателя                                                0 non-null      float64\n",
      " 22  Педаль процент нажатия                                                    6528 non-null   float64\n",
      " 23  Давление в левой передней шине                                            70023 non-null  float64\n",
      " 24  Температура в левой передней шине                                         70023 non-null  float64\n",
      " 25  Давление в правой передней шине                                           70023 non-null  float64\n",
      " 26  Температура в правой передней шине                                        70023 non-null  float64\n",
      " 27  Давление в левой задней внешней шине                                      70023 non-null  float64\n",
      " 28  Температура в левой задней внешней шине                                   70023 non-null  float64\n",
      " 29  Давление в левой задней внутренней шине                                   70023 non-null  float64\n",
      " 30  Температура в левой задней внутренней шине                                70023 non-null  float64\n",
      " 31  Давление в правой задней внутренней шине                                  70023 non-null  float64\n",
      " 32  Температура в правой задней внутренней шине                               70023 non-null  float64\n",
      " 33  Давление в правой задней внешней шине                                     70023 non-null  float64\n",
      " 34  Температура в правой задней внешней шине                                  70023 non-null  float64\n",
      " 35  folder                                                                    70023 non-null  object \n",
      " 36  border_lists                                                              70023 non-null  object \n",
      " 37  время рейса                                                               70023 non-null  int64  \n",
      " 38  Расход топлива_средний                                                    6619 non-null   float64\n",
      " 39  Расход топлива                                                            6528 non-null   float64\n",
      " 40  Давление левый передний цилиндр                                           70023 non-null  float64\n",
      " 41  Давление правый передний цилиндр                                          70023 non-null  float64\n",
      " 42  Давление левый задний цилиндр                                             70023 non-null  float64\n",
      " 43  Давление правый задний цилиндр                                            70023 non-null  float64\n",
      " 44  Поперечный наклон                                                         70023 non-null  float64\n",
      " 45  Продольный наклон                                                         70023 non-null  float64\n",
      " 46  azimut                                                                    70023 non-null  float64\n",
      " 47  Давление левый передний цилиндр_                                          70023 non-null  float64\n",
      " 48  Давление правый передний цилиндр_                                         70023 non-null  float64\n",
      " 49  Давление левый задний цилиндр_                                            70023 non-null  float64\n",
      " 50  Давление правый задний цилиндр_                                           70023 non-null  float64\n",
      " 51  point                                                                     70023 non-null  object \n",
      " 52  уровень давления впереди,МПа                                              70023 non-null  float64\n",
      " 53  уровень давления сзади,МПа                                                70023 non-null  float64\n",
      " 54  nom_hole                                                                  70023 non-null  int64  \n",
      " 55  рекомендованная скорость_turns                                            70023 non-null  float64\n",
      " 56  Поворот влево                                                             70023 non-null  int64  \n",
      " 57  Поворот вправо                                                            70023 non-null  int64  \n",
      " 58  centr                                                                     70023 non-null  object \n",
      " 59  radius                                                                    70023 non-null  float64\n",
      " 60  подъем                                                                    70023 non-null  int64  \n",
      " 61  спуск                                                                     70023 non-null  int64  \n",
      " 62  incline                                                                   70023 non-null  object \n",
      " 63  рекомендованная скорость_min                                              70023 non-null  float64\n",
      " 64  рекомендованная скорость_max                                              70023 non-null  float64\n",
      " 65  new_slope                                                                 70023 non-null  float64\n",
      " 66  incline_                                                                  70023 non-null  object \n",
      " 67  indicator_slope                                                           70023 non-null  int64  \n",
      " 68  mean_slope                                                                70004 non-null  float64\n",
      " 69  shtraf                                                                    70004 non-null  float64\n",
      " 70  isin_border                                                               69348 non-null  float64\n",
      "dtypes: float64(54), int64(10), object(7)\n",
      "memory usage: 37.9+ MB\n"
     ]
    },
    {
     "data": {
      "text/plain": [
       "['len',\n",
       " 'Скорость',\n",
       " 'Широта',\n",
       " 'Долгота',\n",
       " 'Высота',\n",
       " 'X Rotation',\n",
       " 'Y Rotation',\n",
       " 'Вес мгновенный',\n",
       " 'Уровень топлива, литры',\n",
       " 'Уровень топлива, проценты',\n",
       " 'путь',\n",
       " 'ДВС.Расход топлива',\n",
       " 'Ускорение по оси X',\n",
       " 'Ускорение по оси Y',\n",
       " 'Ускорение по оси Z',\n",
       " 'Статус самосвала',\n",
       " 'Самосвал',\n",
       " 'Модель самосвала',\n",
       " 'Грузоподъемность',\n",
       " 'Обороты двигателя',\n",
       " 'Расчетный выходной крутящий момент двигателя (в процентах от эталонного)',\n",
       " 'Текущая нагрузка двигателя',\n",
       " 'Педаль процент нажатия',\n",
       " 'Давление в левой передней шине',\n",
       " 'Температура в левой передней шине',\n",
       " 'Давление в правой передней шине',\n",
       " 'Температура в правой передней шине',\n",
       " 'Давление в левой задней внешней шине',\n",
       " 'Температура в левой задней внешней шине',\n",
       " 'Давление в левой задней внутренней шине',\n",
       " 'Температура в левой задней внутренней шине',\n",
       " 'Давление в правой задней внутренней шине',\n",
       " 'Температура в правой задней внутренней шине',\n",
       " 'Давление в правой задней внешней шине',\n",
       " 'Температура в правой задней внешней шине',\n",
       " 'folder',\n",
       " 'border_lists',\n",
       " 'время рейса',\n",
       " 'Расход топлива_средний',\n",
       " 'Расход топлива',\n",
       " 'Давление левый передний цилиндр',\n",
       " 'Давление правый передний цилиндр',\n",
       " 'Давление левый задний цилиндр',\n",
       " 'Давление правый задний цилиндр',\n",
       " 'Поперечный наклон',\n",
       " 'Продольный наклон',\n",
       " 'azimut',\n",
       " 'Давление левый передний цилиндр_',\n",
       " 'Давление правый передний цилиндр_',\n",
       " 'Давление левый задний цилиндр_',\n",
       " 'Давление правый задний цилиндр_',\n",
       " 'point',\n",
       " 'уровень давления впереди,МПа',\n",
       " 'уровень давления сзади,МПа',\n",
       " 'nom_hole',\n",
       " 'рекомендованная скорость_turns',\n",
       " 'Поворот влево',\n",
       " 'Поворот вправо',\n",
       " 'centr',\n",
       " 'radius',\n",
       " 'подъем',\n",
       " 'спуск',\n",
       " 'incline',\n",
       " 'рекомендованная скорость_min',\n",
       " 'рекомендованная скорость_max',\n",
       " 'new_slope',\n",
       " 'incline_',\n",
       " 'indicator_slope',\n",
       " 'mean_slope',\n",
       " 'shtraf',\n",
       " 'isin_border']"
      ]
     },
     "execution_count": 5,
     "metadata": {},
     "output_type": "execute_result"
    }
   ],
   "execution_count": 5
  },
  {
   "metadata": {},
   "cell_type": "markdown",
   "source": "Собрали все файлы воедино и посмотрели на то, как устроенны данные.",
   "id": "d6809dd0f3829036"
  },
  {
   "metadata": {
    "ExecuteTime": {
     "end_time": "2025-06-15T13:56:43.089361Z",
     "start_time": "2025-06-15T13:56:43.053895Z"
    }
   },
   "cell_type": "code",
   "source": [
    "def map_point(val):\n",
    "    if val == '-':\n",
    "        return 0\n",
    "    elif val == 'point_30%':\n",
    "        return 1\n",
    "    elif val == 'point_60%':\n",
    "        return 2\n",
    "    elif val == 'point_90%':\n",
    "        return 3\n",
    "    else:\n",
    "        return np.nan\n",
    "\n",
    "data['point_class'] = data['point'].apply(map_point)\n"
   ],
   "id": "d2958ec660d58127",
   "outputs": [],
   "execution_count": 24
  },
  {
   "metadata": {
    "ExecuteTime": {
     "end_time": "2025-06-15T14:04:58.427993Z",
     "start_time": "2025-06-15T14:04:58.416713Z"
    }
   },
   "cell_type": "code",
   "source": [
    "important_cols = [\n",
    "    'len', 'Скорость', 'Широта', 'Долгота', 'Высота',\n",
    "    'X Rotation', 'Y Rotation',\n",
    "    'Вес мгновенный',\n",
    "    'Ускорение по оси X', 'Ускорение по оси Y', 'Ускорение по оси Z',\n",
    "    'Обороты двигателя', 'Расчетный выходной крутящий момент двигателя (в процентах от эталонного)',\n",
    "    'Текущая нагрузка двигателя',\n",
    "     'Температура в левой передней шине',\n",
    "    'Температура в правой передней шине',\n",
    "     'Температура в левой задней внешней шине',\n",
    "     'Температура в левой задней внутренней шине',\n",
    "     'Температура в правой задней внутренней шине', 'Температура в правой задней внешней шине',\n",
    "    'Продольный наклон', 'Поперечный наклон'\n",
    "]\n",
    "\n",
    "\n",
    "data = data[important_cols + ['point_class', 'point']]\n"
   ],
   "id": "a062671c94d64d6c",
   "outputs": [],
   "execution_count": 34
  },
  {
   "metadata": {},
   "cell_type": "markdown",
   "source": "Почистили столбцы по условию и добавили числовые значения point для дальнейшей работы.",
   "id": "2fd36e47bbb5ae8e"
  },
  {
   "metadata": {
    "ExecuteTime": {
     "end_time": "2025-06-15T13:57:26.818488Z",
     "start_time": "2025-06-15T13:57:26.790587Z"
    }
   },
   "cell_type": "code",
   "source": "data.head()",
   "id": "79b22c2a96be6439",
   "outputs": [
    {
     "data": {
      "text/plain": [
       "   len  Скорость     Широта    Долгота  Высота  X Rotation  Y Rotation  \\\n",
       "0  0.0       6.0  60.646775  59.713850   338.0   82.961849   -0.870214   \n",
       "1  1.0       6.0  60.646772  59.713873   339.7   79.659641   -4.668622   \n",
       "2  3.0       6.0  60.646773  59.713905   339.2   80.631440   -6.564573   \n",
       "3  4.0       7.0  60.646772  59.713928   339.4   84.225181   -1.929685   \n",
       "4  6.0       7.0  60.646774  59.713966   337.7   80.798340   -1.001621   \n",
       "\n",
       "   Вес мгновенный  Ускорение по оси X  Ускорение по оси Y  ...  \\\n",
       "0           104.0            0.015137            1.014160  ...   \n",
       "1           105.0            0.086670            1.047607  ...   \n",
       "2           102.0            0.118896            1.027954  ...   \n",
       "3           103.0            0.035889            1.065308  ...   \n",
       "4           104.0            0.016113            1.032471  ...   \n",
       "\n",
       "   Температура в левой передней шине  Температура в правой передней шине  \\\n",
       "0                               29.0                                24.0   \n",
       "1                               29.0                                24.0   \n",
       "2                               29.0                                24.0   \n",
       "3                               29.0                                24.0   \n",
       "4                               29.0                                24.0   \n",
       "\n",
       "   Температура в левой задней внешней шине  \\\n",
       "0                                     38.0   \n",
       "1                                     38.0   \n",
       "2                                     38.0   \n",
       "3                                     38.0   \n",
       "4                                     38.0   \n",
       "\n",
       "   Температура в левой задней внутренней шине  \\\n",
       "0                                        36.0   \n",
       "1                                        36.0   \n",
       "2                                        36.0   \n",
       "3                                        36.0   \n",
       "4                                        36.0   \n",
       "\n",
       "   Температура в правой задней внутренней шине  \\\n",
       "0                                         35.0   \n",
       "1                                         35.0   \n",
       "2                                         35.0   \n",
       "3                                         35.0   \n",
       "4                                         35.0   \n",
       "\n",
       "   Температура в правой задней внешней шине  Продольный наклон  \\\n",
       "0                                      38.0           0.870214   \n",
       "1                                      38.0           4.668622   \n",
       "2                                      38.0           6.564573   \n",
       "3                                      38.0           1.929685   \n",
       "4                                      38.0           1.001621   \n",
       "\n",
       "   Поперечный наклон  point_class      point  \n",
       "0           4.385277          0.0          -  \n",
       "1           9.108803          2.0  point_60%  \n",
       "2           6.528050          2.0  point_60%  \n",
       "3           5.370111          2.0  point_60%  \n",
       "4           8.753128          2.0  point_60%  \n",
       "\n",
       "[5 rows x 24 columns]"
      ],
      "text/html": [
       "<div>\n",
       "<style scoped>\n",
       "    .dataframe tbody tr th:only-of-type {\n",
       "        vertical-align: middle;\n",
       "    }\n",
       "\n",
       "    .dataframe tbody tr th {\n",
       "        vertical-align: top;\n",
       "    }\n",
       "\n",
       "    .dataframe thead th {\n",
       "        text-align: right;\n",
       "    }\n",
       "</style>\n",
       "<table border=\"1\" class=\"dataframe\">\n",
       "  <thead>\n",
       "    <tr style=\"text-align: right;\">\n",
       "      <th></th>\n",
       "      <th>len</th>\n",
       "      <th>Скорость</th>\n",
       "      <th>Широта</th>\n",
       "      <th>Долгота</th>\n",
       "      <th>Высота</th>\n",
       "      <th>X Rotation</th>\n",
       "      <th>Y Rotation</th>\n",
       "      <th>Вес мгновенный</th>\n",
       "      <th>Ускорение по оси X</th>\n",
       "      <th>Ускорение по оси Y</th>\n",
       "      <th>...</th>\n",
       "      <th>Температура в левой передней шине</th>\n",
       "      <th>Температура в правой передней шине</th>\n",
       "      <th>Температура в левой задней внешней шине</th>\n",
       "      <th>Температура в левой задней внутренней шине</th>\n",
       "      <th>Температура в правой задней внутренней шине</th>\n",
       "      <th>Температура в правой задней внешней шине</th>\n",
       "      <th>Продольный наклон</th>\n",
       "      <th>Поперечный наклон</th>\n",
       "      <th>point_class</th>\n",
       "      <th>point</th>\n",
       "    </tr>\n",
       "  </thead>\n",
       "  <tbody>\n",
       "    <tr>\n",
       "      <th>0</th>\n",
       "      <td>0.0</td>\n",
       "      <td>6.0</td>\n",
       "      <td>60.646775</td>\n",
       "      <td>59.713850</td>\n",
       "      <td>338.0</td>\n",
       "      <td>82.961849</td>\n",
       "      <td>-0.870214</td>\n",
       "      <td>104.0</td>\n",
       "      <td>0.015137</td>\n",
       "      <td>1.014160</td>\n",
       "      <td>...</td>\n",
       "      <td>29.0</td>\n",
       "      <td>24.0</td>\n",
       "      <td>38.0</td>\n",
       "      <td>36.0</td>\n",
       "      <td>35.0</td>\n",
       "      <td>38.0</td>\n",
       "      <td>0.870214</td>\n",
       "      <td>4.385277</td>\n",
       "      <td>0.0</td>\n",
       "      <td>-</td>\n",
       "    </tr>\n",
       "    <tr>\n",
       "      <th>1</th>\n",
       "      <td>1.0</td>\n",
       "      <td>6.0</td>\n",
       "      <td>60.646772</td>\n",
       "      <td>59.713873</td>\n",
       "      <td>339.7</td>\n",
       "      <td>79.659641</td>\n",
       "      <td>-4.668622</td>\n",
       "      <td>105.0</td>\n",
       "      <td>0.086670</td>\n",
       "      <td>1.047607</td>\n",
       "      <td>...</td>\n",
       "      <td>29.0</td>\n",
       "      <td>24.0</td>\n",
       "      <td>38.0</td>\n",
       "      <td>36.0</td>\n",
       "      <td>35.0</td>\n",
       "      <td>38.0</td>\n",
       "      <td>4.668622</td>\n",
       "      <td>9.108803</td>\n",
       "      <td>2.0</td>\n",
       "      <td>point_60%</td>\n",
       "    </tr>\n",
       "    <tr>\n",
       "      <th>2</th>\n",
       "      <td>3.0</td>\n",
       "      <td>6.0</td>\n",
       "      <td>60.646773</td>\n",
       "      <td>59.713905</td>\n",
       "      <td>339.2</td>\n",
       "      <td>80.631440</td>\n",
       "      <td>-6.564573</td>\n",
       "      <td>102.0</td>\n",
       "      <td>0.118896</td>\n",
       "      <td>1.027954</td>\n",
       "      <td>...</td>\n",
       "      <td>29.0</td>\n",
       "      <td>24.0</td>\n",
       "      <td>38.0</td>\n",
       "      <td>36.0</td>\n",
       "      <td>35.0</td>\n",
       "      <td>38.0</td>\n",
       "      <td>6.564573</td>\n",
       "      <td>6.528050</td>\n",
       "      <td>2.0</td>\n",
       "      <td>point_60%</td>\n",
       "    </tr>\n",
       "    <tr>\n",
       "      <th>3</th>\n",
       "      <td>4.0</td>\n",
       "      <td>7.0</td>\n",
       "      <td>60.646772</td>\n",
       "      <td>59.713928</td>\n",
       "      <td>339.4</td>\n",
       "      <td>84.225181</td>\n",
       "      <td>-1.929685</td>\n",
       "      <td>103.0</td>\n",
       "      <td>0.035889</td>\n",
       "      <td>1.065308</td>\n",
       "      <td>...</td>\n",
       "      <td>29.0</td>\n",
       "      <td>24.0</td>\n",
       "      <td>38.0</td>\n",
       "      <td>36.0</td>\n",
       "      <td>35.0</td>\n",
       "      <td>38.0</td>\n",
       "      <td>1.929685</td>\n",
       "      <td>5.370111</td>\n",
       "      <td>2.0</td>\n",
       "      <td>point_60%</td>\n",
       "    </tr>\n",
       "    <tr>\n",
       "      <th>4</th>\n",
       "      <td>6.0</td>\n",
       "      <td>7.0</td>\n",
       "      <td>60.646774</td>\n",
       "      <td>59.713966</td>\n",
       "      <td>337.7</td>\n",
       "      <td>80.798340</td>\n",
       "      <td>-1.001621</td>\n",
       "      <td>104.0</td>\n",
       "      <td>0.016113</td>\n",
       "      <td>1.032471</td>\n",
       "      <td>...</td>\n",
       "      <td>29.0</td>\n",
       "      <td>24.0</td>\n",
       "      <td>38.0</td>\n",
       "      <td>36.0</td>\n",
       "      <td>35.0</td>\n",
       "      <td>38.0</td>\n",
       "      <td>1.001621</td>\n",
       "      <td>8.753128</td>\n",
       "      <td>2.0</td>\n",
       "      <td>point_60%</td>\n",
       "    </tr>\n",
       "  </tbody>\n",
       "</table>\n",
       "<p>5 rows × 24 columns</p>\n",
       "</div>"
      ]
     },
     "execution_count": 27,
     "metadata": {},
     "output_type": "execute_result"
    }
   ],
   "execution_count": 27
  },
  {
   "metadata": {
    "ExecuteTime": {
     "end_time": "2025-06-15T14:05:00.098582Z",
     "start_time": "2025-06-15T14:05:00.028082Z"
    }
   },
   "cell_type": "code",
   "source": [
    "\n",
    "corr = data.corr(numeric_only=True)\n",
    "corr_with_target = corr['point_class'].drop('point_class').sort_values(ascending=False)\n",
    "\n",
    "print(corr_with_target.head(10))\n"
   ],
   "id": "16f805fb903f6feb",
   "outputs": [
    {
     "name": "stdout",
     "output_type": "stream",
     "text": [
      "Y Rotation                            0.310821\n",
      "Широта                                0.148905\n",
      "Долгота                               0.112090\n",
      "X Rotation                            0.077253\n",
      "Поперечный наклон                     0.027638\n",
      "Ускорение по оси Y                    0.026907\n",
      "Ускорение по оси Z                    0.024216\n",
      "Вес мгновенный                        0.015380\n",
      "Температура в правой передней шине    0.009293\n",
      "Температура в левой передней шине    -0.001285\n",
      "Name: point_class, dtype: float64\n"
     ]
    }
   ],
   "execution_count": 35
  },
  {
   "metadata": {},
   "cell_type": "markdown",
   "source": "Анализируем данные. Смотрим на корреляцию с таргетом.",
   "id": "49f8fc69e2e70214"
  },
  {
   "metadata": {
    "ExecuteTime": {
     "end_time": "2025-06-15T13:44:03.030383Z",
     "start_time": "2025-06-15T13:44:02.754806Z"
    }
   },
   "cell_type": "code",
   "source": [
    "sns.countplot(x='point_class', data=data)\n",
    "plt.title(\"Распределение ям\")\n",
    "plt.show()\n"
   ],
   "id": "463f0edfc549886a",
   "outputs": [
    {
     "data": {
      "text/plain": [
       "<Figure size 640x480 with 1 Axes>"
      ],
      "image/png": "[encoded data removed]"
     },
     "metadata": {},
     "output_type": "display_data"
    }
   ],
   "execution_count": 13
  },
  {
   "metadata": {},
   "cell_type": "markdown",
   "source": [
    "классы распределены не равномерно, большой перекос у значения 0.\n",
    "Получается нам необъодимо обучить модель классификации ям по телеметрическим данным автомобиля в условиях сильного дисбаланса классов."
   ],
   "id": "ee1cc7771ed85dc2"
  },
  {
   "metadata": {
    "ExecuteTime": {
     "end_time": "2025-06-15T14:05:04.657089Z",
     "start_time": "2025-06-15T14:05:04.548883Z"
    }
   },
   "cell_type": "code",
   "source": [
    "target = 'point_class'\n",
    "ignore_cols = ['point', 'point_class']\n",
    "X = data.drop(columns=ignore_cols)\n",
    "X = X.select_dtypes(include=[np.number]).copy()\n",
    "y = data[target]\n",
    "print(X.shape)\n",
    "print(X.isna().sum().sum())\n",
    "print(X.head())\n",
    "\n",
    "X = X.replace([np.inf, -np.inf], np.nan)\n",
    "X = X.dropna(axis=1, how='all')\n",
    "X = X.fillna(X.mean())\n",
    "y = y.loc[X.index]\n",
    "\n",
    "scaler = StandardScaler()\n",
    "X_scaled = scaler.fit_transform(X)"
   ],
   "id": "3f5edc69e7c92834",
   "outputs": [
    {
     "name": "stdout",
     "output_type": "stream",
     "text": [
      "(70023, 22)\n",
      "203541\n",
      "   len  Скорость     Широта    Долгота  Высота  X Rotation  Y Rotation  \\\n",
      "0  0.0       6.0  60.646775  59.713850   338.0   82.961849   -0.870214   \n",
      "1  1.0       6.0  60.646772  59.713873   339.7   79.659641   -4.668622   \n",
      "2  3.0       6.0  60.646773  59.713905   339.2   80.631440   -6.564573   \n",
      "3  4.0       7.0  60.646772  59.713928   339.4   84.225181   -1.929685   \n",
      "4  6.0       7.0  60.646774  59.713966   337.7   80.798340   -1.001621   \n",
      "\n",
      "   Вес мгновенный  Ускорение по оси X  Ускорение по оси Y  ...  \\\n",
      "0           104.0            0.015137            1.014160  ...   \n",
      "1           105.0            0.086670            1.047607  ...   \n",
      "2           102.0            0.118896            1.027954  ...   \n",
      "3           103.0            0.035889            1.065308  ...   \n",
      "4           104.0            0.016113            1.032471  ...   \n",
      "\n",
      "   Расчетный выходной крутящий момент двигателя (в процентах от эталонного)  \\\n",
      "0                                                NaN                          \n",
      "1                                                NaN                          \n",
      "2                                                NaN                          \n",
      "3                                                NaN                          \n",
      "4                                                NaN                          \n",
      "\n",
      "   Текущая нагрузка двигателя  Температура в левой передней шине  \\\n",
      "0                         NaN                               29.0   \n",
      "1                         NaN                               29.0   \n",
      "2                         NaN                               29.0   \n",
      "3                         NaN                               29.0   \n",
      "4                         NaN                               29.0   \n",
      "\n",
      "   Температура в правой передней шине  \\\n",
      "0                                24.0   \n",
      "1                                24.0   \n",
      "2                                24.0   \n",
      "3                                24.0   \n",
      "4                                24.0   \n",
      "\n",
      "   Температура в левой задней внешней шине  \\\n",
      "0                                     38.0   \n",
      "1                                     38.0   \n",
      "2                                     38.0   \n",
      "3                                     38.0   \n",
      "4                                     38.0   \n",
      "\n",
      "   Температура в левой задней внутренней шине  \\\n",
      "0                                        36.0   \n",
      "1                                        36.0   \n",
      "2                                        36.0   \n",
      "3                                        36.0   \n",
      "4                                        36.0   \n",
      "\n",
      "   Температура в правой задней внутренней шине  \\\n",
      "0                                         35.0   \n",
      "1                                         35.0   \n",
      "2                                         35.0   \n",
      "3                                         35.0   \n",
      "4                                         35.0   \n",
      "\n",
      "   Температура в правой задней внешней шине  Продольный наклон  \\\n",
      "0                                      38.0           0.870214   \n",
      "1                                      38.0           4.668622   \n",
      "2                                      38.0           6.564573   \n",
      "3                                      38.0           1.929685   \n",
      "4                                      38.0           1.001621   \n",
      "\n",
      "   Поперечный наклон  \n",
      "0           4.385277  \n",
      "1           9.108803  \n",
      "2           6.528050  \n",
      "3           5.370111  \n",
      "4           8.753128  \n",
      "\n",
      "[5 rows x 22 columns]\n"
     ]
    }
   ],
   "execution_count": 36
  },
  {
   "metadata": {},
   "cell_type": "markdown",
   "source": [
    "Подготовили данные для обучения. \n",
    "\n",
    "Удалены целевые колонки: Из датасета исключены point (непрямая целевая) и point_class (основная целевая переменная), чтобы оставить только входные признаки (X). Выбраны только числовые признаки, используется select_dtypes(include=[np.number]), чтобы убрать категориальные и строковые данные. Применено StandardScaler, чтобы привести все числовые признаки к одному масштабу (среднее = 0, стандартное отклонение = 1)."
   ],
   "id": "f2bb60c1aa5d3fb4"
  },
  {
   "metadata": {
    "ExecuteTime": {
     "end_time": "2025-06-15T14:45:26.754451Z",
     "start_time": "2025-06-15T14:45:26.741239Z"
    }
   },
   "cell_type": "code",
   "source": [
    "y_clean = y.dropna()\n",
    "y_clean = y_clean.astype(int)\n",
    "class_weights = compute_class_weight(class_weight='balanced', classes=np.unique(y_clean), y=y_clean)\n",
    "weights = dict(zip(np.unique(y_clean), class_weights))\n",
    "\n",
    "print(weights)\n"
   ],
   "id": "1f6a3ff37c48b825",
   "outputs": [
    {
     "name": "stdout",
     "output_type": "stream",
     "text": [
      "{np.int64(0): np.float64(0.33352720199843633), np.int64(1): np.float64(2.284548066875653), np.int64(2): np.float64(1.9796830786644029), np.int64(3): np.float64(16.98106796116505)}\n"
     ]
    }
   ],
   "execution_count": 56
  },
  {
   "metadata": {},
   "cell_type": "markdown",
   "source": [
    "Для задачи классификации с несбалансированными классами можно скорректировать веса классов. Приводим метки классов к целочисленному типу (int)\n",
    "Вычисляем веса с помощью compute_class_weight() из sklearn"
   ],
   "id": "36e2c04154249ef3"
  },
  {
   "metadata": {},
   "cell_type": "markdown",
   "source": [
    "Для классификации ям было решено сравнить модели RandomForest и XGBoost, так как обе хорошо подходят для работы с табличными данными и способны учитывать особенности несбалансированных классов.\n",
    "\n",
    "RandomForest —  ансамбль независимых деревьев решений, которые строятся на случайных подвыборках данных и признаков. Модель устойчива  к шуму и переобучению, а также не требует сложной настройки.\n",
    "\n",
    "XGBoost реализует метод градиентного бустинга — последовательное обучение деревьев, каждое из которых исправляет ошибки предыдущих.\n",
    "\n",
    "Такое сравнение моделей помогает оценить компромисс между простотой и скоростью обучения RandomForest и мощностью, но более сложной настройкой XGBoost.\n"
   ],
   "id": "1cdae06605928d63"
  },
  {
   "metadata": {},
   "cell_type": "code",
   "outputs": [],
   "execution_count": null,
   "source": [
    "mask = y.notna()\n",
    "X_clean = X_scaled[mask]\n",
    "y_clean = y[mask].astype(int)\n",
    "\n",
    "X_train, X_test, y_train, y_test = train_test_split(\n",
    "    X_clean, y_clean, test_size=0.2, stratify=y_clean, random_state=42\n",
    ")"
   ],
   "id": "f4bdeb2e28310c2"
  },
  {
   "metadata": {
    "ExecuteTime": {
     "end_time": "2025-06-15T15:42:05.311986Z",
     "start_time": "2025-06-15T15:42:00.375729Z"
    }
   },
   "cell_type": "code",
   "source": [
    "\n",
    "model = RandomForestClassifier(\n",
    "    n_estimators=300,          # больше деревьев для лучшей стабильности\n",
    "    max_depth=15,              # ограничиваем глубину, чтобы снизить переобучение\n",
    "    min_samples_split=10,      # минимальное число объектов для разбиения узла\n",
    "    min_samples_leaf=5,        # минимальное число объектов в листе\n",
    "    max_features='sqrt',       # использовать корень из количества признаков на каждом разбиении\n",
    "     class_weight=weights,  # учёт дисбаланса классов\n",
    "    n_jobs=-1,                 # использовать все ядра процессора\n",
    "    random_state=42\n",
    ")\n",
    "model.fit(X_train, y_train)\n",
    "\n",
    "y_pred = model.predict(X_test)\n",
    "\n",
    "print(classification_report(y_test, y_pred, digits=3))\n",
    "sns.heatmap(confusion_matrix(y_test, y_pred), annot=True, fmt='d', cmap='Blues')\n",
    "plt.title(\"Матрица рандомного леса с class_weight \")\n",
    "plt.xlabel(\"Predicted\")\n",
    "plt.ylabel(\"True\")\n",
    "plt.show()\n"
   ],
   "id": "8674dcfedf454a84",
   "outputs": [
    {
     "name": "stdout",
     "output_type": "stream",
     "text": [
      "              precision    recall  f1-score   support\n",
      "\n",
      "           0      0.961     0.860     0.907     10489\n",
      "           1      0.505     0.762     0.607      1531\n",
      "           2      0.792     0.926     0.854      1767\n",
      "           3      0.882     0.981     0.929       206\n",
      "\n",
      "    accuracy                          0.859     13993\n",
      "   macro avg      0.785     0.882     0.824     13993\n",
      "weighted avg      0.888     0.859     0.868     13993\n",
      "\n"
     ]
    },
    {
     "data": {
      "text/plain": [
       "<Figure size 640x480 with 2 Axes>"
      ],
      "image/png": "[encoded data removed]"
     },
     "metadata": {},
     "output_type": "display_data"
    }
   ],
   "execution_count": 71
  },
  {
   "metadata": {},
   "cell_type": "markdown",
   "source": "Модель с использованием class_weight показала более хорошее качество распознавания редких классов, по сравнению с моделью без учета весов. Recall для этих классов вырос, что означает, что модель стала лучше выявлять ямы и реже пропускает их. Однако на матрице мы видим, что диагональ не выстраивается и количество ложной классификации для класса 1 велико. ",
   "id": "dd39dbbb3fd008f2"
  },
  {
   "metadata": {
    "ExecuteTime": {
     "end_time": "2025-06-15T15:41:32.246338Z",
     "start_time": "2025-06-15T15:41:26.954088Z"
    }
   },
   "cell_type": "code",
   "source": [
    "from sklearn.ensemble import RandomForestClassifier\n",
    "from sklearn.metrics import classification_report, confusion_matrix\n",
    "import seaborn as sns\n",
    "import matplotlib.pyplot as plt\n",
    "\n",
    "\n",
    "model_no_weights = RandomForestClassifier(\n",
    "    n_estimators=300,          # больше деревьев для лучшей стабильности\n",
    "    max_depth=15,              # ограничиваем глубину, чтобы снизить переобучение\n",
    "    min_samples_split=10,      # минимальное число объектов для разбиения узла\n",
    "    min_samples_leaf=5,        # минимальное число объектов в листе\n",
    "    max_features='sqrt',       # использовать корень из количества признаков на каждом разбиении\n",
    "          # учёт дисбаланса классов\n",
    "    n_jobs=-1,                 # использовать все ядра процессора\n",
    "    random_state=42\n",
    ")\n",
    "model_no_weights.fit(X_train, y_train)\n",
    "\n",
    "\n",
    "y_pred_no_weights = model_no_weights.predict(X_test)\n",
    "\n",
    "print(classification_report(y_test, y_pred_no_weights, digits=3))\n",
    "\n",
    "sns.heatmap(confusion_matrix(y_test, y_pred_no_weights), annot=True, fmt='d', cmap='Oranges')\n",
    "plt.title(\"Матрица рандомного леса (без class_weight)\")\n",
    "plt.xlabel(\"Predicted\")\n",
    "plt.ylabel(\"True\")\n",
    "plt.show()\n"
   ],
   "id": "bf5f98d04443df09",
   "outputs": [
    {
     "name": "stdout",
     "output_type": "stream",
     "text": [
      "              precision    recall  f1-score   support\n",
      "\n",
      "           0      0.894     0.978     0.934     10489\n",
      "           1      0.835     0.364     0.508      1531\n",
      "           2      0.861     0.832     0.846      1767\n",
      "           3      0.986     0.680     0.805       206\n",
      "\n",
      "    accuracy                          0.888     13993\n",
      "   macro avg      0.894     0.713     0.773     13993\n",
      "weighted avg      0.884     0.888     0.874     13993\n",
      "\n"
     ]
    },
    {
     "data": {
      "text/plain": [
       "<Figure size 640x480 with 2 Axes>"
      ],
      "image/png": "[encoded data removed]"
     },
     "metadata": {},
     "output_type": "display_data"
    }
   ],
   "execution_count": 70
  },
  {
   "metadata": {},
   "cell_type": "markdown",
   "source": "Без корректировки весов модель демонстрирует очень высокую точность на основном классе 0, однако recall для минорных классов значительно падает. Это приводит к тому, что ямы 1 и 3 классов почти игнорируются, что неприемлемо для задачи обнаружения повреждений дороги.",
   "id": "d42b2bb01e9baa35"
  },
  {
   "metadata": {},
   "cell_type": "markdown",
   "source": "",
   "id": "c2b50c2603396f02"
  },
  {
   "metadata": {
    "ExecuteTime": {
     "end_time": "2025-06-15T15:19:33.550804Z",
     "start_time": "2025-06-15T15:19:33.513819Z"
    }
   },
   "cell_type": "code",
   "source": [
    "classes = np.unique(y_clean)\n",
    "weights_array = compute_class_weight(class_weight='balanced', classes=classes, y=y_clean)\n",
    "class_weights = dict(zip(classes, weights_array))\n",
    "\n",
    "\n",
    "max_weight = 7.0\n",
    "class_weights = {cls: min(w, max_weight) for cls, w in class_weights.items()}\n",
    "sample_weights = np.array([class_weights[label] for label in y_clean])"
   ],
   "id": "b7488410041e3a44",
   "outputs": [],
   "execution_count": 65
  },
  {
   "metadata": {
    "ExecuteTime": {
     "end_time": "2025-06-15T15:56:19.362463Z",
     "start_time": "2025-06-15T15:56:12.592266Z"
    }
   },
   "cell_type": "code",
   "source": [
    "from xgboost import XGBClassifier\n",
    "from sklearn.metrics import classification_report, confusion_matrix\n",
    "import seaborn as sns\n",
    "import matplotlib.pyplot as plt\n",
    "\n",
    "\n",
    "X_train, X_test, y_train, y_test, sw_train, sw_test = train_test_split(\n",
    "    X_clean,\n",
    "    y_clean.astype(int),\n",
    "    sample_weights,\n",
    "    test_size=0.2,\n",
    "    stratify=y_clean,\n",
    "    random_state=42\n",
    ")\n",
    "\n",
    "\n",
    "xgb_model = XGBClassifier(\n",
    "    objective='multi:softmax',\n",
    "    num_class=4,\n",
    "    eval_metric='mlogloss',\n",
    "    n_estimators=300,\n",
    "    learning_rate=0.05,\n",
    "    max_depth=10,\n",
    "    reg_alpha=0.1,        # L1-регуляризация\n",
    "    reg_lambda=1.0,       # L2-регуляризация\n",
    "    random_state=42\n",
    ")\n",
    "\n",
    "\n",
    "xgb_model.fit(X_train, y_train, sample_weight=sw_train)\n",
    "\n",
    "y_pred_xgb = xgb_model.predict(X_test)\n",
    "\n",
    "\n",
    "print(classification_report(y_test, y_pred_xgb, digits=3))\n",
    "\n",
    "\n",
    "sns.heatmap(confusion_matrix(y_test, y_pred_xgb), annot=True, fmt='d', cmap='Blues')\n",
    "plt.title(\"Матрица XGBoost\")\n",
    "plt.xlabel(\"Predicted\")\n",
    "plt.ylabel(\"True\")\n",
    "plt.show()"
   ],
   "id": "b81f6640a3fce9ef",
   "outputs": [
    {
     "name": "stdout",
     "output_type": "stream",
     "text": [
      "              precision    recall  f1-score   support\n",
      "\n",
      "           0      0.960     0.914     0.936     10489\n",
      "           1      0.612     0.767     0.681      1531\n",
      "           2      0.903     0.964     0.932      1767\n",
      "           3      0.961     0.947     0.954       206\n",
      "\n",
      "    accuracy                          0.904     13993\n",
      "   macro avg      0.859     0.898     0.876     13993\n",
      "weighted avg      0.915     0.904     0.908     13993\n",
      "\n"
     ]
    },
    {
     "data": {
      "text/plain": [
       "<Figure size 640x480 with 2 Axes>"
      ],
      "image/png": "[encoded data removed]"
     },
     "metadata": {},
     "output_type": "display_data"
    }
   ],
   "execution_count": 73
  },
  {
   "metadata": {},
   "cell_type": "markdown",
   "source": "Модель XGBoost демонстрирует хорошее качество классификации на всех классах, особенно улучшая результаты по сравнению с RandomForest. Для класса 1 XGBoost показывает более сбалансированные показатели (precision 0.61 и recall 0.77). Общая точность модели составляет около 90%, XGBoost более эффективно справляется с дисбалансом.",
   "id": "85caad8e28ad643"
  },
  {
   "metadata": {},
   "cell_type": "markdown",
   "source": [
    " Вывод\n",
    "\n",
    "- **RandomForest без учета весов** показал хорошую общую точность, но хуже справлялся с минорными классами (особенно с классом 1).\n",
    "- **RandomForest с class_weight** улучшил recall для редких классов, но мог пожертвовать точностью для класса 0.\n",
    "- **XGBoost с sample_weight** показал наилучший баланс между точностью и полнотой по всем классам:\n",
    "\n",
    "По итогу работы и анализа лучше использовать XGBoost с sample_weight в качестве основной модели для задачи классификации ямы."
   ],
   "id": "4446acdee99b466c"
  }
 ],
 "metadata": {
  "kernelspec": {
   "display_name": "Python 3",
   "language": "python",
   "name": "python3"
  },
  "language_info": {
   "codemirror_mode": {
    "name": "ipython",
    "version": 2
   },
   "file_extension": ".py",
   "mimetype": "text/x-python",
   "name": "python",
   "nbconvert_exporter": "python",
   "pygments_lexer": "ipython2",
   "version": "2.7.6"
  }
 },
 "nbformat": 4,
 "nbformat_minor": 5
}
